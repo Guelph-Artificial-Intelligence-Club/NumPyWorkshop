{
  "nbformat": 4,
  "nbformat_minor": 0,
  "metadata": {
    "colab": {
      "provenance": []
    },
    "kernelspec": {
      "name": "python3",
      "display_name": "Python 3"
    },
    "language_info": {
      "name": "python"
    }
  },
  "cells": [
    {
      "cell_type": "code",
      "source": [
        "from google.colab import drive\n",
        "drive.mount('/content/drive/')"
      ],
      "metadata": {
        "colab": {
          "base_uri": "https://localhost:8080/"
        },
        "id": "y5xzgHJCICMV",
        "outputId": "68dcc997-8870-44ad-b1e7-986fa482c8c4"
      },
      "execution_count": 1,
      "outputs": [
        {
          "output_type": "stream",
          "name": "stdout",
          "text": [
            "Mounted at /content/drive/\n"
          ]
        }
      ]
    },
    {
      "cell_type": "markdown",
      "source": [
        "# NumPy"
      ],
      "metadata": {
        "id": "OmSIPezraFyM"
      }
    },
    {
      "cell_type": "code",
      "execution_count": 2,
      "metadata": {
        "id": "fzyfzz1WCzRW"
      },
      "outputs": [],
      "source": [
        "import numpy as np"
      ]
    },
    {
      "cell_type": "markdown",
      "source": [
        "What's most important for us to know about NumPy?\n",
        "NumPy is a library that makes scientific math and linear algebra easy.\n",
        "Native Python lists act as arrays, but they are slow. Arrays, also called matrices or tensors, in NumPy have a type of `ndarray` on which you can use a whole host of NumPy functions. It's also great for many linear algebra operations you should become comfortable with over time. They are a lot faster due to some cool computer sciency stuff related to memory. Pandas is also built on top of NumPy."
      ],
      "metadata": {
        "id": "FAGOBe7LD_jv"
      }
    },
    {
      "cell_type": "markdown",
      "source": [
        "We can make an array of data in a few ways. Let's take a look at one of them using two functions: `np.arange` and `np.reshape`"
      ],
      "metadata": {
        "id": "0jHspVulELhB"
      }
    },
    {
      "cell_type": "code",
      "source": [
        "x = np.arange(12, dtype=np.int64).reshape(3, 4)\n",
        "print(x)\n",
        "print(x.shape)\n",
        "print(type(x))"
      ],
      "metadata": {
        "colab": {
          "base_uri": "https://localhost:8080/"
        },
        "id": "J41jUi3_ERi4",
        "outputId": "dd442671-a7d3-497f-e762-7cc6cfae9c86"
      },
      "execution_count": null,
      "outputs": [
        {
          "output_type": "stream",
          "name": "stdout",
          "text": [
            "[[ 0  1  2  3]\n",
            " [ 4  5  6  7]\n",
            " [ 8  9 10 11]]\n",
            "(3, 4)\n",
            "<class 'numpy.ndarray'>\n"
          ]
        }
      ]
    },
    {
      "cell_type": "markdown",
      "source": [
        "We create a matrix called x of type `ndarray` using `np.arange` and `np.reshape`."
      ],
      "metadata": {
        "id": "FyDiGu36EsVC"
      }
    },
    {
      "cell_type": "markdown",
      "source": [
        "`np.arange(12, dtype=np.int64)` creates a 1-dimensional array of numbers from 0 to 12, with a data type of int64. If you don't include it, the datatype is inferred through context, but essentially int64 allows for larger integers; if you'd like to learn more you can here https://numpy.org/doc/stable/user/basics.types.html#\n"
      ],
      "metadata": {
        "id": "uFpb6_8tF-wY"
      }
    },
    {
      "cell_type": "markdown",
      "source": [
        "`np.reshape(3, 4)` reshapes our original 1 x 12 matrix into a 3 x 4 matrix"
      ],
      "metadata": {
        "id": "7vKLKCNFGNsI"
      }
    },
    {
      "cell_type": "markdown",
      "source": [
        "Matrices are essential to machine learning so it is important to learn to understand and interpret their information. For example, `x[1]` accesses the 2nd row of data (index starts at 0)"
      ],
      "metadata": {
        "id": "INN-53l7GxbH"
      }
    },
    {
      "cell_type": "code",
      "source": [
        "print(x[1])\n",
        "print(x[1].shape)"
      ],
      "metadata": {
        "colab": {
          "base_uri": "https://localhost:8080/"
        },
        "id": "hNaBhtGcJeld",
        "outputId": "fee8af4c-136d-4547-8e46-f002b0cd0f98"
      },
      "execution_count": null,
      "outputs": [
        {
          "output_type": "stream",
          "name": "stdout",
          "text": [
            "[4 5 6 7]\n",
            "(4,)\n"
          ]
        }
      ]
    },
    {
      "cell_type": "markdown",
      "source": [
        "We can access columns by first specifying the desired row (':' indicates all rows) and specifying the desired column, returning a list of the returned values"
      ],
      "metadata": {
        "id": "dKO8SNxCJ32F"
      }
    },
    {
      "cell_type": "code",
      "source": [
        "print(x[:, 0])\n",
        "print(x[:, 0].shape)\n"
      ],
      "metadata": {
        "colab": {
          "base_uri": "https://localhost:8080/"
        },
        "id": "KVq2ttYpJybU",
        "outputId": "55395bad-18ac-43d9-de13-94a3130150e1"
      },
      "execution_count": null,
      "outputs": [
        {
          "output_type": "stream",
          "name": "stdout",
          "text": [
            "[0 4 8]\n",
            "(3,)\n"
          ]
        }
      ]
    },
    {
      "cell_type": "markdown",
      "source": [
        "We can edit the values of specific entries. In this case we change all values from the second row to 0"
      ],
      "metadata": {
        "id": "l4J8FMWhJYdM"
      }
    },
    {
      "cell_type": "code",
      "source": [
        "x[1] = 0\n",
        "x"
      ],
      "metadata": {
        "colab": {
          "base_uri": "https://localhost:8080/"
        },
        "id": "A-yEJyNwK1ft",
        "outputId": "8f085bc8-e0cb-433a-97ce-ceccafc8a690"
      },
      "execution_count": null,
      "outputs": [
        {
          "output_type": "execute_result",
          "data": {
            "text/plain": [
              "array([[ 0,  1,  2,  3],\n",
              "       [ 0,  0,  0,  0],\n",
              "       [ 8,  9, 10, 11]])"
            ]
          },
          "metadata": {},
          "execution_count": 7
        }
      ]
    },
    {
      "cell_type": "markdown",
      "source": [
        "We can make arrays in many ways. A very common way to initialize a matrix if you know its intended size is to use `np.zeros(rows, columns)`"
      ],
      "metadata": {
        "id": "INPL4izSh6Mt"
      }
    },
    {
      "cell_type": "code",
      "source": [
        "np.zeros(12).reshape(3,4)"
      ],
      "metadata": {
        "colab": {
          "base_uri": "https://localhost:8080/"
        },
        "id": "POaKOswwi2Iq",
        "outputId": "e051457c-d22f-48e5-cccd-b34db7f21aa0"
      },
      "execution_count": null,
      "outputs": [
        {
          "output_type": "execute_result",
          "data": {
            "text/plain": [
              "array([[0., 0., 0., 0.],\n",
              "       [0., 0., 0., 0.],\n",
              "       [0., 0., 0., 0.]])"
            ]
          },
          "metadata": {},
          "execution_count": 8
        }
      ]
    },
    {
      "cell_type": "code",
      "source": [
        "np.ones(12).reshape(3, 4)"
      ],
      "metadata": {
        "colab": {
          "base_uri": "https://localhost:8080/"
        },
        "id": "vs_TolcVO5DE",
        "outputId": "8a1a600f-e6a0-4b17-f79d-63b7b33df935"
      },
      "execution_count": null,
      "outputs": [
        {
          "output_type": "execute_result",
          "data": {
            "text/plain": [
              "array([[1., 1., 1., 1.],\n",
              "       [1., 1., 1., 1.],\n",
              "       [1., 1., 1., 1.]])"
            ]
          },
          "metadata": {},
          "execution_count": 9
        }
      ]
    },
    {
      "cell_type": "markdown",
      "source": [
        "We can also make an array with anything we want, simply through `np.array([list])`"
      ],
      "metadata": {
        "id": "am75MNTNjEuF"
      }
    },
    {
      "cell_type": "code",
      "source": [
        "a = np.array([1, 2, 3])\n",
        "b = np.array(([1, 2, 3], [4, 5, 6])) # we need to encapsulate additional dimensions in a new set of brackets here\n",
        "print(a)\n",
        "print(b)"
      ],
      "metadata": {
        "colab": {
          "base_uri": "https://localhost:8080/"
        },
        "id": "21OxLvlejOcy",
        "outputId": "8413ac96-d198-4d1f-d5a0-0943c8df4157"
      },
      "execution_count": null,
      "outputs": [
        {
          "output_type": "stream",
          "name": "stdout",
          "text": [
            "[1 2 3]\n",
            "[[1 2 3]\n",
            " [4 5 6]]\n"
          ]
        }
      ]
    },
    {
      "cell_type": "markdown",
      "source": [
        "There are a ton of linear algebra operations we can also use with NumPy such as `:ndarray."
      ],
      "metadata": {
        "id": "xCgyVPJEnuKS"
      }
    },
    {
      "cell_type": "code",
      "source": [
        "a = np.array(([1, 2, 3], [4, 5, 6]))\n",
        "aT = np.transpose(a)\n",
        "\n",
        "print(a)\n",
        "print(aT)"
      ],
      "metadata": {
        "id": "bE80hueF0Dbs",
        "outputId": "ade5edc4-6a95-4a82-adf0-6d066ea33c25",
        "colab": {
          "base_uri": "https://localhost:8080/"
        }
      },
      "execution_count": null,
      "outputs": [
        {
          "output_type": "stream",
          "name": "stdout",
          "text": [
            "[[1 2 3]\n",
            " [4 5 6]]\n",
            "[[1 4]\n",
            " [2 5]\n",
            " [3 6]]\n"
          ]
        }
      ]
    },
    {
      "cell_type": "code",
      "source": [
        "np.sum(a)\n",
        "np.sum(a, axis=0)"
      ],
      "metadata": {
        "id": "mXuvk0EU0j4e",
        "outputId": "29c4f3d1-0758-4d5f-8cba-b831ef29c10a",
        "colab": {
          "base_uri": "https://localhost:8080/"
        }
      },
      "execution_count": null,
      "outputs": [
        {
          "output_type": "execute_result",
          "data": {
            "text/plain": [
              "array([5, 7, 9])"
            ]
          },
          "metadata": {},
          "execution_count": 12
        }
      ]
    },
    {
      "cell_type": "markdown",
      "source": [
        "We use Pandas and NumPy arrays in a similar way. NumPy is better for purely numerical data, while Pandas handles panel data."
      ],
      "metadata": {
        "id": "OlRkg8731-xf"
      }
    },
    {
      "cell_type": "markdown",
      "source": [
        "Add information about transpose and sums, general matrix operations."
      ],
      "metadata": {
        "id": "Uj7i0CisRDJh"
      }
    },
    {
      "cell_type": "markdown",
      "source": [
        "# PIL and matplotlib"
      ],
      "metadata": {
        "id": "HYCmNMGzaB34"
      }
    },
    {
      "cell_type": "markdown",
      "source": [
        "We can also read and load images easily with the Python Imaging Library and NumPy"
      ],
      "metadata": {
        "id": "gslm7vRkSTyy"
      }
    },
    {
      "cell_type": "markdown",
      "source": [
        "We read in the image using `Image.open('path')` and then we turn it into an `ndarray` object with `np.asarray`"
      ],
      "metadata": {
        "id": "dYr5DkmPSrwQ"
      }
    },
    {
      "cell_type": "code",
      "source": [
        "from PIL import Image\n",
        "\n",
        "img = Image.open('/content/drive/MyDrive/Colab Notebooks/Brain Tumors/train/2_jpg.rf.fded76c07e967829600f3509288fdfe0.jpg')\n",
        "img_np = np.asarray(img)\n",
        "img_np"
      ],
      "metadata": {
        "id": "_aUBKaUzNIok",
        "colab": {
          "base_uri": "https://localhost:8080/",
          "height": 384
        },
        "outputId": "88b26b37-2fbe-47c2-db07-9dd81fe4b9d2"
      },
      "execution_count": 3,
      "outputs": [
        {
          "output_type": "error",
          "ename": "FileNotFoundError",
          "evalue": "[Errno 2] No such file or directory: '/content/drive/MyDrive/Colab Notebooks/Brain Tumors/train/2_jpg.rf.fded76c07e967829600f3509288fdfe0.jpg'",
          "traceback": [
            "\u001b[0;31m---------------------------------------------------------------------------\u001b[0m",
            "\u001b[0;31mFileNotFoundError\u001b[0m                         Traceback (most recent call last)",
            "\u001b[0;32m<ipython-input-3-8321a00e09ba>\u001b[0m in \u001b[0;36m<cell line: 3>\u001b[0;34m()\u001b[0m\n\u001b[1;32m      1\u001b[0m \u001b[0;32mfrom\u001b[0m \u001b[0mPIL\u001b[0m \u001b[0;32mimport\u001b[0m \u001b[0mImage\u001b[0m\u001b[0;34m\u001b[0m\u001b[0;34m\u001b[0m\u001b[0m\n\u001b[1;32m      2\u001b[0m \u001b[0;34m\u001b[0m\u001b[0m\n\u001b[0;32m----> 3\u001b[0;31m \u001b[0mimg\u001b[0m \u001b[0;34m=\u001b[0m \u001b[0mImage\u001b[0m\u001b[0;34m.\u001b[0m\u001b[0mopen\u001b[0m\u001b[0;34m(\u001b[0m\u001b[0;34m'/content/drive/MyDrive/Colab Notebooks/Brain Tumors/train/2_jpg.rf.fded76c07e967829600f3509288fdfe0.jpg'\u001b[0m\u001b[0;34m)\u001b[0m\u001b[0;34m\u001b[0m\u001b[0;34m\u001b[0m\u001b[0m\n\u001b[0m\u001b[1;32m      4\u001b[0m \u001b[0mimg_np\u001b[0m \u001b[0;34m=\u001b[0m \u001b[0mnp\u001b[0m\u001b[0;34m.\u001b[0m\u001b[0masarray\u001b[0m\u001b[0;34m(\u001b[0m\u001b[0mimg\u001b[0m\u001b[0;34m)\u001b[0m\u001b[0;34m\u001b[0m\u001b[0;34m\u001b[0m\u001b[0m\n\u001b[1;32m      5\u001b[0m \u001b[0mimg_np\u001b[0m\u001b[0;34m\u001b[0m\u001b[0;34m\u001b[0m\u001b[0m\n",
            "\u001b[0;32m/usr/local/lib/python3.10/dist-packages/PIL/Image.py\u001b[0m in \u001b[0;36mopen\u001b[0;34m(fp, mode, formats)\u001b[0m\n\u001b[1;32m   3225\u001b[0m \u001b[0;34m\u001b[0m\u001b[0m\n\u001b[1;32m   3226\u001b[0m     \u001b[0;32mif\u001b[0m \u001b[0mfilename\u001b[0m\u001b[0;34m:\u001b[0m\u001b[0;34m\u001b[0m\u001b[0;34m\u001b[0m\u001b[0m\n\u001b[0;32m-> 3227\u001b[0;31m         \u001b[0mfp\u001b[0m \u001b[0;34m=\u001b[0m \u001b[0mbuiltins\u001b[0m\u001b[0;34m.\u001b[0m\u001b[0mopen\u001b[0m\u001b[0;34m(\u001b[0m\u001b[0mfilename\u001b[0m\u001b[0;34m,\u001b[0m \u001b[0;34m\"rb\"\u001b[0m\u001b[0;34m)\u001b[0m\u001b[0;34m\u001b[0m\u001b[0;34m\u001b[0m\u001b[0m\n\u001b[0m\u001b[1;32m   3228\u001b[0m         \u001b[0mexclusive_fp\u001b[0m \u001b[0;34m=\u001b[0m \u001b[0;32mTrue\u001b[0m\u001b[0;34m\u001b[0m\u001b[0;34m\u001b[0m\u001b[0m\n\u001b[1;32m   3229\u001b[0m \u001b[0;34m\u001b[0m\u001b[0m\n",
            "\u001b[0;31mFileNotFoundError\u001b[0m: [Errno 2] No such file or directory: '/content/drive/MyDrive/Colab Notebooks/Brain Tumors/train/2_jpg.rf.fded76c07e967829600f3509288fdfe0.jpg'"
          ]
        }
      ]
    },
    {
      "cell_type": "code",
      "source": [
        "print(type(img)) # It's very important to have an understanding of the different object types to avoid frustration down the line\n",
        "print(type(img_np))"
      ],
      "metadata": {
        "id": "eVGUVrjAQDVW",
        "colab": {
          "base_uri": "https://localhost:8080/"
        },
        "outputId": "35165c35-a0ff-424a-f42b-955b5608b619"
      },
      "execution_count": null,
      "outputs": [
        {
          "output_type": "stream",
          "name": "stdout",
          "text": [
            "<class 'PIL.JpegImagePlugin.JpegImageFile'>\n",
            "<class 'numpy.ndarray'>\n"
          ]
        }
      ]
    },
    {
      "cell_type": "markdown",
      "source": [
        "os.listdir() is used to get the list of all files and directories in the specified directory. Using this method we can import all of the files in a folder with a for loop"
      ],
      "metadata": {
        "id": "chDfbv55ZsLL"
      }
    },
    {
      "cell_type": "code",
      "source": [
        "import os, time\n",
        "img_list = [] #create an empty list that we can store our files in\n",
        "\n",
        "t = time.time()\n",
        "\n",
        "for filename in os.listdir('/content/drive/MyDrive/Colab Notebooks/Brain Tumors/train'):\n",
        "    if filename.endswith(\"jpg\"):\n",
        "      img_list.append(np.asarray(Image.open('/content/drive/MyDrive/Colab Notebooks/Brain Tumors/train/'+ filename)))\n",
        "\n",
        "t = time.time() - t\n",
        "print(\"%.4fs\" % t)"
      ],
      "metadata": {
        "id": "TeLz0-FsTzip",
        "outputId": "ab471f7c-8100-40fa-90e1-083ff12385de",
        "colab": {
          "base_uri": "https://localhost:8080/"
        }
      },
      "execution_count": null,
      "outputs": [
        {
          "output_type": "stream",
          "name": "stdout",
          "text": [
            "10.8007s\n"
          ]
        }
      ]
    },
    {
      "cell_type": "markdown",
      "source": [
        " Let's look at the shape of our images"
      ],
      "metadata": {
        "id": "fFH7H1qEeydr"
      }
    },
    {
      "cell_type": "code",
      "source": [
        "img_list.shape"
      ],
      "metadata": {
        "colab": {
          "base_uri": "https://localhost:8080/",
          "height": 144
        },
        "id": "YVdYBwQYbHaJ",
        "outputId": "f6061b10-1f68-4a96-e591-754d5170a91e"
      },
      "execution_count": null,
      "outputs": [
        {
          "output_type": "error",
          "ename": "AttributeError",
          "evalue": "'list' object has no attribute 'shape'",
          "traceback": [
            "\u001b[0;31m---------------------------------------------------------------------------\u001b[0m",
            "\u001b[0;31mAttributeError\u001b[0m                            Traceback (most recent call last)",
            "\u001b[0;32m<ipython-input-16-958ed27e12ab>\u001b[0m in \u001b[0;36m<cell line: 1>\u001b[0;34m()\u001b[0m\n\u001b[0;32m----> 1\u001b[0;31m \u001b[0mimg_list\u001b[0m\u001b[0;34m.\u001b[0m\u001b[0mshape\u001b[0m\u001b[0;34m\u001b[0m\u001b[0;34m\u001b[0m\u001b[0m\n\u001b[0m",
            "\u001b[0;31mAttributeError\u001b[0m: 'list' object has no attribute 'shape'"
          ]
        }
      ]
    },
    {
      "cell_type": "code",
      "source": [
        "print(len(img_list))\n",
        "print(type(img_list))"
      ],
      "metadata": {
        "id": "easwFq72W4Pr"
      },
      "execution_count": null,
      "outputs": []
    },
    {
      "cell_type": "markdown",
      "source": [
        "The function `.shape` does not work with lists! This is why it's important to be aware of the types of the objects we are working with. What we want is an ndarray. We can achieve this with the `np.asarray(list)` function"
      ],
      "metadata": {
        "id": "ip0BrPDtbL1p"
      }
    },
    {
      "cell_type": "code",
      "source": [
        "img_ndarray = np.asarray(img_list)\n",
        "print(img_ndarray.shape)"
      ],
      "metadata": {
        "id": "NsnC4ZaKXThY"
      },
      "execution_count": null,
      "outputs": []
    },
    {
      "cell_type": "markdown",
      "source": [
        "Now we can see the dimensions of the list of images! We have `x` images with shape `l * w`. What is this `3`?"
      ],
      "metadata": {
        "id": "XYgSyK4MYr7C"
      }
    },
    {
      "cell_type": "code",
      "source": [
        "img_ndarray[0].shape # We are looking at the shape of just the first image."
      ],
      "metadata": {
        "id": "nhCwGlyQYQ60"
      },
      "execution_count": null,
      "outputs": []
    },
    {
      "cell_type": "code",
      "source": [
        "#this allows the image to be loaded in a model that takes in multiple images in its input shape\n",
        "model_readyImg = img_ndarray[0].reshape(1, 640, 640, 3)"
      ],
      "metadata": {
        "id": "WtMpA0MvY1ez"
      },
      "execution_count": null,
      "outputs": []
    },
    {
      "cell_type": "markdown",
      "source": [
        "Matplotlib has a looottt of functions. It's quicker to import just pyplot for now, as it covers most of the functionality we need from matplotlib"
      ],
      "metadata": {
        "id": "U4-FMjpXeNCp"
      }
    },
    {
      "cell_type": "code",
      "source": [
        "import matplotlib.pyplot as plt\n",
        "\n",
        "plt.imshow(img_ndarray[0])"
      ],
      "metadata": {
        "id": "4iw8lmARb0q0",
        "colab": {
          "base_uri": "https://localhost:8080/",
          "height": 176
        },
        "outputId": "441e2d11-b1a6-407d-b8e7-5a70c3f49e76"
      },
      "execution_count": 6,
      "outputs": [
        {
          "output_type": "error",
          "ename": "NameError",
          "evalue": "name 'img_ndarray' is not defined",
          "traceback": [
            "\u001b[0;31m---------------------------------------------------------------------------\u001b[0m",
            "\u001b[0;31mNameError\u001b[0m                                 Traceback (most recent call last)",
            "\u001b[0;32m<ipython-input-6-db0d360bc198>\u001b[0m in \u001b[0;36m<cell line: 3>\u001b[0;34m()\u001b[0m\n\u001b[1;32m      1\u001b[0m \u001b[0;32mimport\u001b[0m \u001b[0mmatplotlib\u001b[0m\u001b[0;34m.\u001b[0m\u001b[0mpyplot\u001b[0m \u001b[0;32mas\u001b[0m \u001b[0mplt\u001b[0m\u001b[0;34m\u001b[0m\u001b[0;34m\u001b[0m\u001b[0m\n\u001b[1;32m      2\u001b[0m \u001b[0;34m\u001b[0m\u001b[0m\n\u001b[0;32m----> 3\u001b[0;31m \u001b[0mplt\u001b[0m\u001b[0;34m.\u001b[0m\u001b[0mimshow\u001b[0m\u001b[0;34m(\u001b[0m\u001b[0mimg_ndarray\u001b[0m\u001b[0;34m[\u001b[0m\u001b[0;36m0\u001b[0m\u001b[0;34m]\u001b[0m\u001b[0;34m)\u001b[0m\u001b[0;34m\u001b[0m\u001b[0;34m\u001b[0m\u001b[0m\n\u001b[0m",
            "\u001b[0;31mNameError\u001b[0m: name 'img_ndarray' is not defined"
          ]
        }
      ]
    },
    {
      "cell_type": "markdown",
      "source": [
        "If you want to display multiple images from an array this is how you would go about it\n"
      ],
      "metadata": {
        "id": "W0LLt4fJ12QD"
      }
    },
    {
      "cell_type": "code",
      "source": [
        "w = 3\n",
        "h = 5\n",
        "counter = 0\n",
        "figure, axis = plt.subplots(w,h)\n",
        "for i in range(w):\n",
        "  for j in range(h):\n",
        "    axis[i,j].imshow(img_ndarray[counter])\n",
        "    counter += 1\n",
        "plt.axis(\"off\")\n",
        "plt.show()"
      ],
      "metadata": {
        "id": "5R90jpqI1tNL"
      },
      "execution_count": null,
      "outputs": []
    },
    {
      "cell_type": "markdown",
      "source": [
        "Add a section on glob, simple image processing techniques like black/white thresholding\n"
      ],
      "metadata": {
        "id": "AScnLA8BQ2Kh"
      }
    },
    {
      "cell_type": "code",
      "source": [
        "#replace this with any image\n",
        "img = Image.open('/content/drive/MyDrive/images/download (1).jpg')\n",
        "\n",
        "image = np.array(img.convert('L'))\n",
        "\n",
        "threshold = 210\n",
        "image[image < threshold] = 0\n",
        "image[image >= threshold] = 255\n",
        "\n",
        "plt.imshow(image, cmap=\"gray\")"
      ],
      "metadata": {
        "id": "oebSQo9MRhxx",
        "colab": {
          "base_uri": "https://localhost:8080/",
          "height": 452
        },
        "outputId": "2c2f876e-6216-474c-e942-8f9ad51250fb"
      },
      "execution_count": 14,
      "outputs": [
        {
          "output_type": "execute_result",
          "data": {
            "text/plain": [
              "<matplotlib.image.AxesImage at 0x7f3bc9d92ef0>"
            ]
          },
          "metadata": {},
          "execution_count": 14
        },
        {
          "output_type": "display_data",
          "data": {
            "text/plain": [
              "<Figure size 640x480 with 1 Axes>"
            ],
            "image/png": "[encoded data removed]"
          },
          "metadata": {}
        }
      ]
    }
  ]
}